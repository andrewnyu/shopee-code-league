{
 "cells": [
  {
   "cell_type": "code",
   "execution_count": 1,
   "metadata": {},
   "outputs": [],
   "source": [
    "import numpy as np\n",
    "import pandas as pd"
   ]
  },
  {
   "cell_type": "code",
   "execution_count": 2,
   "metadata": {},
   "outputs": [],
   "source": [
    "df_train_en = pd.read_csv('data/train_en.csv')\n",
    "df_train_tcn = pd.read_csv('data/train_tcn.csv')"
   ]
  },
  {
   "cell_type": "code",
   "execution_count": 46,
   "metadata": {},
   "outputs": [],
   "source": [
    "df_test = pd.read_csv('data/test_tcn.csv')\n",
    "df_dev_tcn= pd.read_csv('data/dev_tcn.csv')\n",
    "df_dev_en= pd.read_csv('data/dev_en.csv')"
   ]
  },
  {
   "cell_type": "markdown",
   "metadata": {},
   "source": [
    "<b>Note:</b> Use dev_en and dev_tcn as matching translation sets to get Bleu score for trained model."
   ]
  },
  {
   "cell_type": "markdown",
   "metadata": {},
   "source": [
    "## Pre-Processing"
   ]
  },
  {
   "cell_type": "code",
   "execution_count": 5,
   "metadata": {},
   "outputs": [],
   "source": [
    "from __future__ import unicode_literals, print_function, division\n",
    "from io import open\n",
    "import unicodedata\n",
    "import string\n",
    "import re\n",
    "import random\n",
    "\n",
    "import torch\n",
    "import torch.nn as nn\n",
    "from torch import optim\n",
    "import torch.nn.functional as F\n",
    "\n",
    "device = torch.device(\"cuda\" if torch.cuda.is_available() else \"cpu\")"
   ]
  },
  {
   "cell_type": "code",
   "execution_count": 6,
   "metadata": {},
   "outputs": [
    {
     "data": {
      "text/html": [
       "<div>\n",
       "<style scoped>\n",
       "    .dataframe tbody tr th:only-of-type {\n",
       "        vertical-align: middle;\n",
       "    }\n",
       "\n",
       "    .dataframe tbody tr th {\n",
       "        vertical-align: top;\n",
       "    }\n",
       "\n",
       "    .dataframe thead th {\n",
       "        text-align: right;\n",
       "    }\n",
       "</style>\n",
       "<table border=\"1\" class=\"dataframe\">\n",
       "  <thead>\n",
       "    <tr style=\"text-align: right;\">\n",
       "      <th></th>\n",
       "      <th>product_title</th>\n",
       "      <th>category</th>\n",
       "    </tr>\n",
       "  </thead>\n",
       "  <tbody>\n",
       "    <tr>\n",
       "      <th>0</th>\n",
       "      <td>Gucci Gucci Guilty Pour Femme Stud Edition 罪愛女...</td>\n",
       "      <td>Health &amp; Beauty</td>\n",
       "    </tr>\n",
       "    <tr>\n",
       "      <th>1</th>\n",
       "      <td>（二手）PS4 GTA 5 俠盜獵車手5 Grand Theif Auto V繁體 中文版</td>\n",
       "      <td>Game Kingdom</td>\n",
       "    </tr>\n",
       "    <tr>\n",
       "      <th>2</th>\n",
       "      <td>百獸卡</td>\n",
       "      <td>Life &amp; Entertainment</td>\n",
       "    </tr>\n",
       "    <tr>\n",
       "      <th>3</th>\n",
       "      <td>nac nac活氧全效柔衣素</td>\n",
       "      <td>Mother &amp; Baby</td>\n",
       "    </tr>\n",
       "    <tr>\n",
       "      <th>4</th>\n",
       "      <td>#Nike耐吉官方F.C. 男子足球長褲新款標準型 拒水 拉鏈褲腳\\nCD0557</td>\n",
       "      <td>Men's Apparel</td>\n",
       "    </tr>\n",
       "  </tbody>\n",
       "</table>\n",
       "</div>"
      ],
      "text/plain": [
       "                                       product_title              category\n",
       "0  Gucci Gucci Guilty Pour Femme Stud Edition 罪愛女...       Health & Beauty\n",
       "1      （二手）PS4 GTA 5 俠盜獵車手5 Grand Theif Auto V繁體 中文版          Game Kingdom\n",
       "2                                                百獸卡  Life & Entertainment\n",
       "3                                     nac nac活氧全效柔衣素         Mother & Baby\n",
       "4          #Nike耐吉官方F.C. 男子足球長褲新款標準型 拒水 拉鏈褲腳\\nCD0557         Men's Apparel"
      ]
     },
     "execution_count": 6,
     "metadata": {},
     "output_type": "execute_result"
    }
   ],
   "source": [
    "df_train_tcn.head()"
   ]
  },
  {
   "cell_type": "markdown",
   "metadata": {},
   "source": [
    "## Create Monolingual Embeddings"
   ]
  },
  {
   "cell_type": "markdown",
   "metadata": {},
   "source": [
    "Tokenize Chinese text"
   ]
  },
  {
   "cell_type": "code",
   "execution_count": 70,
   "metadata": {},
   "outputs": [
    {
     "data": {
      "text/html": [
       "<div>\n",
       "<style scoped>\n",
       "    .dataframe tbody tr th:only-of-type {\n",
       "        vertical-align: middle;\n",
       "    }\n",
       "\n",
       "    .dataframe tbody tr th {\n",
       "        vertical-align: top;\n",
       "    }\n",
       "\n",
       "    .dataframe thead th {\n",
       "        text-align: right;\n",
       "    }\n",
       "</style>\n",
       "<table border=\"1\" class=\"dataframe\">\n",
       "  <thead>\n",
       "    <tr style=\"text-align: right;\">\n",
       "      <th></th>\n",
       "      <th>text</th>\n",
       "      <th>split</th>\n",
       "    </tr>\n",
       "  </thead>\n",
       "  <tbody>\n",
       "    <tr>\n",
       "      <th>0</th>\n",
       "      <td>【PolarStar】美麗諾羊毛保暖襪『淺灰』P18634</td>\n",
       "      <td>public</td>\n",
       "    </tr>\n",
       "    <tr>\n",
       "      <th>1</th>\n",
       "      <td>甜蜜水晶~天然水晶五行珠手鍊10mm手鍊</td>\n",
       "      <td>public</td>\n",
       "    </tr>\n",
       "    <tr>\n",
       "      <th>2</th>\n",
       "      <td>粉晶六角柱純銀項鍊</td>\n",
       "      <td>public</td>\n",
       "    </tr>\n",
       "    <tr>\n",
       "      <th>3</th>\n",
       "      <td>3M SCOTCH VHB 超強力雙面膠-戶外專用 V1808</td>\n",
       "      <td>public</td>\n",
       "    </tr>\n",
       "    <tr>\n",
       "      <th>4</th>\n",
       "      <td>燈專屬優惠 *4盒</td>\n",
       "      <td>public</td>\n",
       "    </tr>\n",
       "    <tr>\n",
       "      <th>...</th>\n",
       "      <td>...</td>\n",
       "      <td>...</td>\n",
       "    </tr>\n",
       "    <tr>\n",
       "      <th>9995</th>\n",
       "      <td>RAINS BACKPACK 後背包 公事包 筆電包 丹麥品牌 白色</td>\n",
       "      <td>private</td>\n",
       "    </tr>\n",
       "    <tr>\n",
       "      <th>9996</th>\n",
       "      <td>Airwalk 凉鞋 童鞋 深蓝色 中童 A823230180 no002</td>\n",
       "      <td>private</td>\n",
       "    </tr>\n",
       "    <tr>\n",
       "      <th>9997</th>\n",
       "      <td>NORNS 【迪士尼5000mAh行動電源(泰瑞鴨)】迪士尼 鴨嘴獸泰瑞 充電</td>\n",
       "      <td>private</td>\n",
       "    </tr>\n",
       "    <tr>\n",
       "      <th>9998</th>\n",
       "      <td>DERWENT 達爾文設計製圖鉛筆 鐵盒12支(6B-4H),設計*34214</td>\n",
       "      <td>private</td>\n",
       "    </tr>\n",
       "    <tr>\n",
       "      <th>9999</th>\n",
       "      <td>Borofone BE11 運動磁吸藍芽耳機</td>\n",
       "      <td>private</td>\n",
       "    </tr>\n",
       "  </tbody>\n",
       "</table>\n",
       "<p>10000 rows × 2 columns</p>\n",
       "</div>"
      ],
      "text/plain": [
       "                                         text    split\n",
       "0               【PolarStar】美麗諾羊毛保暖襪『淺灰』P18634   public\n",
       "1                        甜蜜水晶~天然水晶五行珠手鍊10mm手鍊   public\n",
       "2                                   粉晶六角柱純銀項鍊   public\n",
       "3             3M SCOTCH VHB 超強力雙面膠-戶外專用 V1808   public\n",
       "4                                   燈專屬優惠 *4盒   public\n",
       "...                                       ...      ...\n",
       "9995       RAINS BACKPACK 後背包 公事包 筆電包 丹麥品牌 白色  private\n",
       "9996    Airwalk 凉鞋 童鞋 深蓝色 中童 A823230180 no002  private\n",
       "9997  NORNS 【迪士尼5000mAh行動電源(泰瑞鴨)】迪士尼 鴨嘴獸泰瑞 充電  private\n",
       "9998  DERWENT 達爾文設計製圖鉛筆 鐵盒12支(6B-4H),設計*34214  private\n",
       "9999                   Borofone BE11 運動磁吸藍芽耳機  private\n",
       "\n",
       "[10000 rows x 2 columns]"
      ]
     },
     "execution_count": 70,
     "metadata": {},
     "output_type": "execute_result"
    }
   ],
   "source": [
    "df_test"
   ]
  },
  {
   "cell_type": "code",
   "execution_count": 71,
   "metadata": {},
   "outputs": [
    {
     "name": "stdout",
     "output_type": "stream",
     "text": [
      "Collecting opencc\n",
      "  Downloading OpenCC-1.1.1-py2.py3-none-win_amd64.whl (726 kB)\n",
      "Installing collected packages: opencc\n",
      "Successfully installed opencc-1.1.1\n"
     ]
    }
   ],
   "source": [
    "!pip install opencc"
   ]
  },
  {
   "cell_type": "code",
   "execution_count": 50,
   "metadata": {},
   "outputs": [],
   "source": [
    "import opencc\n",
    "converter = opencc.OpenCC('t2s.json')"
   ]
  },
  {
   "cell_type": "code",
   "execution_count": 52,
   "metadata": {},
   "outputs": [],
   "source": [
    "df_test['text'] = df_test['text'].apply(lambda x: converter.convert(x))"
   ]
  },
  {
   "cell_type": "markdown",
   "metadata": {},
   "source": [
    "Tokenize text"
   ]
  },
  {
   "cell_type": "code",
   "execution_count": 108,
   "metadata": {},
   "outputs": [
    {
     "name": "stderr",
     "output_type": "stream",
     "text": [
      "Paddle enabled successfully......\n"
     ]
    }
   ],
   "source": [
    "import jieba\n",
    "jieba.enable_paddle()"
   ]
  },
  {
   "cell_type": "code",
   "execution_count": 112,
   "metadata": {},
   "outputs": [],
   "source": [
    "def tokenize(s):\n",
    "    seg_list  =  jieba.cut(s)   # The default is the exact mode \n",
    "    s=\" \".join (seg_list)\n",
    "    return s.split()\n",
    "\n",
    "df_test['text_tokenized'] = df_test['text'].apply(lambda x: tokenize(x))"
   ]
  },
  {
   "cell_type": "markdown",
   "metadata": {},
   "source": [
    "## Train Model on External Data"
   ]
  },
  {
   "cell_type": "markdown",
   "metadata": {},
   "source": [
    "Unsupervised NMT is too difficult and requires complex training parameters that will not be possible with given data"
   ]
  },
  {
   "cell_type": "markdown",
   "metadata": {},
   "source": [
    "<b>Pivot 1: </b> Use dictionaries and define a rule based translation method"
   ]
  },
  {
   "cell_type": "code",
   "execution_count": 169,
   "metadata": {},
   "outputs": [
    {
     "name": "stderr",
     "output_type": "stream",
     "text": [
      "C:\\Users\\yu.an\\AppData\\Local\\Continuum\\anaconda3\\envs\\dl\\lib\\site-packages\\ipykernel_launcher.py:2: UserWarning: DataFrame columns are not unique, some columns will be omitted.\n",
      "  \n"
     ]
    }
   ],
   "source": [
    "zh_dict = pd.read_csv('data/zh-en.txt', sep=\" \", header=None)\n",
    "zh_dict = zh_dict.set_index(0).T.to_dict('list')"
   ]
  },
  {
   "cell_type": "code",
   "execution_count": 170,
   "metadata": {},
   "outputs": [
    {
     "data": {
      "text/plain": [
       "13786"
      ]
     },
     "execution_count": 170,
     "metadata": {},
     "output_type": "execute_result"
    }
   ],
   "source": [
    "len(zh_dict)"
   ]
  },
  {
   "cell_type": "code",
   "execution_count": 171,
   "metadata": {},
   "outputs": [],
   "source": [
    "def translate_zh(line):\n",
    "    res=\"\"\n",
    "    for c in line:\n",
    "        try:\n",
    "            c=zh_dict[c][0]\n",
    "            res+=c\n",
    "        except KeyError:\n",
    "            res+=c\n",
    "    return res"
   ]
  },
  {
   "cell_type": "code",
   "execution_count": 172,
   "metadata": {},
   "outputs": [],
   "source": [
    "def translate_zh_token(line):\n",
    "    res=[]\n",
    "    for c in line:\n",
    "        try:\n",
    "            c=zh_dict[c][0]\n",
    "            res.append(c)\n",
    "        except KeyError:\n",
    "            c = translate_zh(c)\n",
    "            res.append(c)\n",
    "    return res"
   ]
  },
  {
   "cell_type": "code",
   "execution_count": 173,
   "metadata": {},
   "outputs": [],
   "source": [
    "df_test['preds_tokenized']=df_test['text_tokenized'].apply(lambda x: translate_zh_token(x))"
   ]
  },
  {
   "cell_type": "code",
   "execution_count": 174,
   "metadata": {},
   "outputs": [],
   "source": [
    "def un_tokenize(s):\n",
    "    res=\"\"\n",
    "    for c in s:\n",
    "        res+=(c+\" \")\n",
    "    return res"
   ]
  },
  {
   "cell_type": "code",
   "execution_count": 175,
   "metadata": {},
   "outputs": [],
   "source": [
    "df_test['preds'] = df_test['preds_tokenized'].apply(lambda x: un_tokenize(x))"
   ]
  },
  {
   "cell_type": "code",
   "execution_count": 176,
   "metadata": {},
   "outputs": [],
   "source": [
    "def isEnglish(s):\n",
    "    try:\n",
    "        s.encode(encoding='utf-8').decode('ascii')\n",
    "    except UnicodeDecodeError:\n",
    "        return False\n",
    "    else:\n",
    "        return True\n",
    "\n",
    "unrecognized = {}\n",
    "def remove_cn(s):\n",
    "    res = ''\n",
    "    for c in s:\n",
    "        en = isEnglish(c)\n",
    "        if en or c in ['【','】']:\n",
    "            res+=c\n",
    "        else:\n",
    "            res+=' '\n",
    "            try:\n",
    "                unrecognized[c]+=1\n",
    "            except KeyError:\n",
    "                unrecognized[c]=1\n",
    "    return res"
   ]
  },
  {
   "cell_type": "code",
   "execution_count": 177,
   "metadata": {},
   "outputs": [],
   "source": [
    "df_test['preds'] = df_test['preds'].apply(lambda x: remove_cn(x))"
   ]
  },
  {
   "cell_type": "code",
   "execution_count": 178,
   "metadata": {},
   "outputs": [],
   "source": [
    "ur = pd.DataFrame(unrecognized.items(),columns=['char','count']).sort_values('count',ascending=False)"
   ]
  },
  {
   "cell_type": "code",
   "execution_count": 180,
   "metadata": {},
   "outputs": [],
   "source": [
    "converter = opencc.OpenCC('s2t.json')\n",
    "ur['tcn'] = ur['char'].apply(lambda x: converter.convert(x))"
   ]
  },
  {
   "cell_type": "code",
   "execution_count": 181,
   "metadata": {},
   "outputs": [
    {
     "data": {
      "text/html": [
       "<div>\n",
       "<style scoped>\n",
       "    .dataframe tbody tr th:only-of-type {\n",
       "        vertical-align: middle;\n",
       "    }\n",
       "\n",
       "    .dataframe tbody tr th {\n",
       "        vertical-align: top;\n",
       "    }\n",
       "\n",
       "    .dataframe thead th {\n",
       "        text-align: right;\n",
       "    }\n",
       "</style>\n",
       "<table border=\"1\" class=\"dataframe\">\n",
       "  <thead>\n",
       "    <tr style=\"text-align: right;\">\n",
       "      <th></th>\n",
       "      <th>char</th>\n",
       "      <th>count</th>\n",
       "      <th>tcn</th>\n",
       "    </tr>\n",
       "  </thead>\n",
       "  <tbody>\n",
       "    <tr>\n",
       "      <th>24</th>\n",
       "      <td>款</td>\n",
       "      <td>396</td>\n",
       "      <td>款</td>\n",
       "    </tr>\n",
       "    <tr>\n",
       "      <th>113</th>\n",
       "      <td>套</td>\n",
       "      <td>379</td>\n",
       "      <td>套</td>\n",
       "    </tr>\n",
       "    <tr>\n",
       "      <th>29</th>\n",
       "      <td>带</td>\n",
       "      <td>342</td>\n",
       "      <td>帶</td>\n",
       "    </tr>\n",
       "    <tr>\n",
       "      <th>148</th>\n",
       "      <td>台</td>\n",
       "      <td>341</td>\n",
       "      <td>臺</td>\n",
       "    </tr>\n",
       "    <tr>\n",
       "      <th>147</th>\n",
       "      <td>贴</td>\n",
       "      <td>336</td>\n",
       "      <td>貼</td>\n",
       "    </tr>\n",
       "    <tr>\n",
       "      <th>140</th>\n",
       "      <td>长</td>\n",
       "      <td>334</td>\n",
       "      <td>長</td>\n",
       "    </tr>\n",
       "    <tr>\n",
       "      <th>152</th>\n",
       "      <td>子</td>\n",
       "      <td>333</td>\n",
       "      <td>子</td>\n",
       "    </tr>\n",
       "    <tr>\n",
       "      <th>229</th>\n",
       "      <td>宝</td>\n",
       "      <td>331</td>\n",
       "      <td>寶</td>\n",
       "    </tr>\n",
       "    <tr>\n",
       "      <th>311</th>\n",
       "      <td>纹</td>\n",
       "      <td>330</td>\n",
       "      <td>紋</td>\n",
       "    </tr>\n",
       "    <tr>\n",
       "      <th>158</th>\n",
       "      <td>爱</td>\n",
       "      <td>330</td>\n",
       "      <td>愛</td>\n",
       "    </tr>\n",
       "    <tr>\n",
       "      <th>99</th>\n",
       "      <td>组</td>\n",
       "      <td>328</td>\n",
       "      <td>組</td>\n",
       "    </tr>\n",
       "    <tr>\n",
       "      <th>228</th>\n",
       "      <td>童</td>\n",
       "      <td>321</td>\n",
       "      <td>童</td>\n",
       "    </tr>\n",
       "    <tr>\n",
       "      <th>355</th>\n",
       "      <td>钢</td>\n",
       "      <td>319</td>\n",
       "      <td>鋼</td>\n",
       "    </tr>\n",
       "    <tr>\n",
       "      <th>14</th>\n",
       "      <td>胶</td>\n",
       "      <td>311</td>\n",
       "      <td>膠</td>\n",
       "    </tr>\n",
       "    <tr>\n",
       "      <th>62</th>\n",
       "      <td>时</td>\n",
       "      <td>304</td>\n",
       "      <td>時</td>\n",
       "    </tr>\n",
       "    <tr>\n",
       "      <th>69</th>\n",
       "      <td>夹</td>\n",
       "      <td>292</td>\n",
       "      <td>夾</td>\n",
       "    </tr>\n",
       "    <tr>\n",
       "      <th>177</th>\n",
       "      <td>湾</td>\n",
       "      <td>282</td>\n",
       "      <td>灣</td>\n",
       "    </tr>\n",
       "    <tr>\n",
       "      <th>26</th>\n",
       "      <td>闲</td>\n",
       "      <td>280</td>\n",
       "      <td>閒</td>\n",
       "    </tr>\n",
       "    <tr>\n",
       "      <th>103</th>\n",
       "      <td>经</td>\n",
       "      <td>277</td>\n",
       "      <td>經</td>\n",
       "    </tr>\n",
       "    <tr>\n",
       "      <th>104</th>\n",
       "      <td>典</td>\n",
       "      <td>275</td>\n",
       "      <td>典</td>\n",
       "    </tr>\n",
       "  </tbody>\n",
       "</table>\n",
       "</div>"
      ],
      "text/plain": [
       "    char  count tcn\n",
       "24     款    396   款\n",
       "113    套    379   套\n",
       "29     带    342   帶\n",
       "148    台    341   臺\n",
       "147    贴    336   貼\n",
       "140    长    334   長\n",
       "152    子    333   子\n",
       "229    宝    331   寶\n",
       "311    纹    330   紋\n",
       "158    爱    330   愛\n",
       "99     组    328   組\n",
       "228    童    321   童\n",
       "355    钢    319   鋼\n",
       "14     胶    311   膠\n",
       "62     时    304   時\n",
       "69     夹    292   夾\n",
       "177    湾    282   灣\n",
       "26     闲    280   閒\n",
       "103    经    277   經\n",
       "104    典    275   典"
      ]
     },
     "execution_count": 181,
     "metadata": {},
     "output_type": "execute_result"
    }
   ],
   "source": [
    "ur[:20]"
   ]
  },
  {
   "cell_type": "code",
   "execution_count": 183,
   "metadata": {},
   "outputs": [],
   "source": [
    "df_test.rename(columns={'preds':'translation_output'},inplace=True)\n",
    "df_test['translation_output'].to_csv('results1.csv',index=False)"
   ]
  }
 ],
 "metadata": {
  "kernelspec": {
   "display_name": "dl",
   "language": "python",
   "name": "dl"
  },
  "language_info": {
   "codemirror_mode": {
    "name": "ipython",
    "version": 3
   },
   "file_extension": ".py",
   "mimetype": "text/x-python",
   "name": "python",
   "nbconvert_exporter": "python",
   "pygments_lexer": "ipython3",
   "version": "3.7.7"
  }
 },
 "nbformat": 4,
 "nbformat_minor": 4
}
